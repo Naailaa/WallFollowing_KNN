{
 "cells": [
  {
   "cell_type": "markdown",
   "id": "49b9baec",
   "metadata": {},
   "source": [
    "# Exemple de Classification avec sklearn"
   ]
  },
  {
   "cell_type": "markdown",
   "id": "da3e1078",
   "metadata": {},
   "source": [
    "On va utiliser la méthode de knn classification en utilisant la bibliothèque sklearn python avec l'exemple des distances de notre dataset pour le wall following ,tel qu'on a ses quatres actions : \"Move-Forward\", \"Slight-Right-Turn\", \"Sharp-Right-Turn\", \"Slight-Left-Turn\"."
   ]
  },
  {
   "cell_type": "code",
   "execution_count": 11,
   "id": "50089728",
   "metadata": {},
   "outputs": [],
   "source": [
    "import pandas as pd"
   ]
  },
  {
   "cell_type": "code",
   "execution_count": 41,
   "id": "3a0b732e",
   "metadata": {
    "scrolled": true
   },
   "outputs": [
    {
     "data": {
      "text/html": [
       "<div>\n",
       "<style scoped>\n",
       "    .dataframe tbody tr th:only-of-type {\n",
       "        vertical-align: middle;\n",
       "    }\n",
       "\n",
       "    .dataframe tbody tr th {\n",
       "        vertical-align: top;\n",
       "    }\n",
       "\n",
       "    .dataframe thead th {\n",
       "        text-align: right;\n",
       "    }\n",
       "</style>\n",
       "<table border=\"1\" class=\"dataframe\">\n",
       "  <thead>\n",
       "    <tr style=\"text-align: right;\">\n",
       "      <th></th>\n",
       "      <th>capteur_milieu</th>\n",
       "      <th>capteur_gauche</th>\n",
       "      <th>action</th>\n",
       "    </tr>\n",
       "  </thead>\n",
       "  <tbody>\n",
       "    <tr>\n",
       "      <th>0</th>\n",
       "      <td>1.687</td>\n",
       "      <td>0.445</td>\n",
       "      <td>Slight-Right-Turn</td>\n",
       "    </tr>\n",
       "    <tr>\n",
       "      <th>1</th>\n",
       "      <td>1.687</td>\n",
       "      <td>0.449</td>\n",
       "      <td>Slight-Right-Turn</td>\n",
       "    </tr>\n",
       "    <tr>\n",
       "      <th>2</th>\n",
       "      <td>1.687</td>\n",
       "      <td>0.449</td>\n",
       "      <td>Slight-Right-Turn</td>\n",
       "    </tr>\n",
       "    <tr>\n",
       "      <th>3</th>\n",
       "      <td>1.687</td>\n",
       "      <td>0.449</td>\n",
       "      <td>Slight-Right-Turn</td>\n",
       "    </tr>\n",
       "    <tr>\n",
       "      <th>4</th>\n",
       "      <td>1.687</td>\n",
       "      <td>0.449</td>\n",
       "      <td>Slight-Right-Turn</td>\n",
       "    </tr>\n",
       "  </tbody>\n",
       "</table>\n",
       "</div>"
      ],
      "text/plain": [
       "   capteur_milieu  capteur_gauche             action\n",
       "0           1.687           0.445  Slight-Right-Turn\n",
       "1           1.687           0.449  Slight-Right-Turn\n",
       "2           1.687           0.449  Slight-Right-Turn\n",
       "3           1.687           0.449  Slight-Right-Turn\n",
       "4           1.687           0.449  Slight-Right-Turn"
      ]
     },
     "execution_count": 41,
     "metadata": {},
     "output_type": "execute_result"
    }
   ],
   "source": [
    "df= pd.read_csv('Downloads/dataset.arff')\n",
    "df.head()"
   ]
  },
  {
   "cell_type": "code",
   "execution_count": 42,
   "id": "25fe757d",
   "metadata": {},
   "outputs": [],
   "source": [
    "classes = (\"Move-Forward\", \"Slight-Right-Turn\", \"Sharp-Right-Turn\", \"Slight-Left-Turn\")\n",
    "n_classes = len(classes)\n",
    "\n",
    "for i, item in enumerate(classes):\n",
    "    df = df.replace(to_replace = item, value = i)"
   ]
  },
  {
   "cell_type": "code",
   "execution_count": 46,
   "id": "cf8332d0",
   "metadata": {
    "scrolled": true
   },
   "outputs": [
    {
     "data": {
      "text/html": [
       "<div>\n",
       "<style scoped>\n",
       "    .dataframe tbody tr th:only-of-type {\n",
       "        vertical-align: middle;\n",
       "    }\n",
       "\n",
       "    .dataframe tbody tr th {\n",
       "        vertical-align: top;\n",
       "    }\n",
       "\n",
       "    .dataframe thead th {\n",
       "        text-align: right;\n",
       "    }\n",
       "</style>\n",
       "<table border=\"1\" class=\"dataframe\">\n",
       "  <thead>\n",
       "    <tr style=\"text-align: right;\">\n",
       "      <th></th>\n",
       "      <th>capteur_milieu</th>\n",
       "      <th>capteur_gauche</th>\n",
       "      <th>action</th>\n",
       "      <th>etiquette</th>\n",
       "    </tr>\n",
       "  </thead>\n",
       "  <tbody>\n",
       "    <tr>\n",
       "      <th>0</th>\n",
       "      <td>1.687</td>\n",
       "      <td>0.445</td>\n",
       "      <td>1</td>\n",
       "      <td>Slight-Right-Turn</td>\n",
       "    </tr>\n",
       "    <tr>\n",
       "      <th>1</th>\n",
       "      <td>1.687</td>\n",
       "      <td>0.449</td>\n",
       "      <td>1</td>\n",
       "      <td>Slight-Right-Turn</td>\n",
       "    </tr>\n",
       "    <tr>\n",
       "      <th>2</th>\n",
       "      <td>1.687</td>\n",
       "      <td>0.449</td>\n",
       "      <td>1</td>\n",
       "      <td>Slight-Right-Turn</td>\n",
       "    </tr>\n",
       "    <tr>\n",
       "      <th>3</th>\n",
       "      <td>1.687</td>\n",
       "      <td>0.449</td>\n",
       "      <td>1</td>\n",
       "      <td>Slight-Right-Turn</td>\n",
       "    </tr>\n",
       "    <tr>\n",
       "      <th>4</th>\n",
       "      <td>1.687</td>\n",
       "      <td>0.449</td>\n",
       "      <td>1</td>\n",
       "      <td>Slight-Right-Turn</td>\n",
       "    </tr>\n",
       "  </tbody>\n",
       "</table>\n",
       "</div>"
      ],
      "text/plain": [
       "   capteur_milieu  capteur_gauche  action          etiquette\n",
       "0           1.687           0.445       1  Slight-Right-Turn\n",
       "1           1.687           0.449       1  Slight-Right-Turn\n",
       "2           1.687           0.449       1  Slight-Right-Turn\n",
       "3           1.687           0.449       1  Slight-Right-Turn\n",
       "4           1.687           0.449       1  Slight-Right-Turn"
      ]
     },
     "execution_count": 46,
     "metadata": {},
     "output_type": "execute_result"
    }
   ],
   "source": [
    "df['etiquette'] =df.action.apply(lambda x: classes[x])\n",
    "df[df.action==1].head()"
   ]
  },
  {
   "cell_type": "code",
   "execution_count": 26,
   "id": "bd56c95c",
   "metadata": {},
   "outputs": [],
   "source": [
    "df0 = df[df.action==0]\n",
    "df1 = df[df.action==1]\n",
    "df2 = df[df.action==2]\n",
    "df3 = df[df.action==3]"
   ]
  },
  {
   "cell_type": "code",
   "execution_count": 6,
   "id": "61b7aa2a",
   "metadata": {},
   "outputs": [],
   "source": [
    "import matplotlib.pyplot as plt\n",
    "%matplotlib inline"
   ]
  },
  {
   "cell_type": "code",
   "execution_count": 29,
   "id": "970ee968",
   "metadata": {},
   "outputs": [
    {
     "data": {
      "text/plain": [
       "<matplotlib.collections.PathCollection at 0x163de4a4be0>"
      ]
     },
     "execution_count": 29,
     "metadata": {},
     "output_type": "execute_result"
    },
    {
     "data": {
      "image/png": "[encoded data removed]",
      "text/plain": [
       "<Figure size 432x288 with 1 Axes>"
      ]
     },
     "metadata": {
      "needs_background": "light"
     },
     "output_type": "display_data"
    }
   ],
   "source": [
    "plt.title('Distances')\n",
    "plt.xlabel('Distance milieu')\n",
    "plt.ylabel('Distance cote')\n",
    "plt.scatter(df0['capteur_milieu'], df0['capteur_gauche'],color=\"green\",marker='+')\n",
    "plt.scatter(df1['capteur_milieu'], df1['capteur_gauche'],color=\"blue\",marker='.')\n",
    "plt.scatter(df2['capteur_milieu'], df2['capteur_gauche'],color=\"orange\",marker='*')\n",
    "plt.scatter(df3['capteur_milieu'], df3['capteur_gauche'],color=\"pink\",marker='*')"
   ]
  },
  {
   "cell_type": "markdown",
   "id": "c8322bd8",
   "metadata": {},
   "source": [
    "## DECOUPE LE DATASET EN TRAIN ET TEST"
   ]
  },
  {
   "cell_type": "code",
   "execution_count": 50,
   "id": "84d3175d",
   "metadata": {},
   "outputs": [],
   "source": [
    "from sklearn.model_selection import train_test_split"
   ]
  },
  {
   "cell_type": "code",
   "execution_count": 51,
   "id": "10ccc425",
   "metadata": {},
   "outputs": [],
   "source": [
    "X = df.drop(['action','etiquette'], axis='columns')\n",
    "y = df.action"
   ]
  },
  {
   "cell_type": "code",
   "execution_count": 52,
   "id": "f301849f",
   "metadata": {},
   "outputs": [],
   "source": [
    "X_train, X_test, y_train, y_test = train_test_split(X, y, test_size=0.2, random_state=1)"
   ]
  },
  {
   "cell_type": "code",
   "execution_count": 53,
   "id": "fb57c5b7",
   "metadata": {},
   "outputs": [
    {
     "data": {
      "text/plain": [
       "4364"
      ]
     },
     "execution_count": 53,
     "metadata": {},
     "output_type": "execute_result"
    }
   ],
   "source": [
    "len(X_train)"
   ]
  },
  {
   "cell_type": "code",
   "execution_count": 54,
   "id": "352e3d21",
   "metadata": {},
   "outputs": [
    {
     "data": {
      "text/plain": [
       "1092"
      ]
     },
     "execution_count": 54,
     "metadata": {},
     "output_type": "execute_result"
    }
   ],
   "source": [
    "len(X_test)"
   ]
  },
  {
   "cell_type": "markdown",
   "id": "c3011fb0",
   "metadata": {},
   "source": [
    "## ON PROCEDE A NOTRE TRAVAIL AVEC KNN"
   ]
  },
  {
   "cell_type": "code",
   "execution_count": 55,
   "id": "669ab584",
   "metadata": {},
   "outputs": [],
   "source": [
    "from sklearn.neighbors import KNeighborsClassifier\n",
    "knn = KNeighborsClassifier(n_neighbors=10)"
   ]
  },
  {
   "cell_type": "code",
   "execution_count": 56,
   "id": "6f85e40e",
   "metadata": {},
   "outputs": [
    {
     "data": {
      "text/plain": [
       "KNeighborsClassifier(n_neighbors=10)"
      ]
     },
     "execution_count": 56,
     "metadata": {},
     "output_type": "execute_result"
    }
   ],
   "source": [
    "knn.fit(X_train, y_train)"
   ]
  },
  {
   "cell_type": "code",
   "execution_count": 57,
   "id": "b1dbb871",
   "metadata": {},
   "outputs": [
    {
     "data": {
      "text/plain": [
       "0.9798534798534798"
      ]
     },
     "execution_count": 57,
     "metadata": {},
     "output_type": "execute_result"
    }
   ],
   "source": [
    "knn.score(X_test, y_test)"
   ]
  },
  {
   "cell_type": "markdown",
   "id": "95e555ba",
   "metadata": {},
   "source": [
    "## MATRICE DE CONFUSION"
   ]
  },
  {
   "cell_type": "code",
   "execution_count": 58,
   "id": "abe26dd4",
   "metadata": {},
   "outputs": [
    {
     "data": {
      "text/plain": [
       "array([[402,   5,   1,   1],\n",
       "       [ 12, 147,   2,   0],\n",
       "       [  0,   0, 446,   0],\n",
       "       [  1,   0,   0,  75]], dtype=int64)"
      ]
     },
     "execution_count": 58,
     "metadata": {},
     "output_type": "execute_result"
    }
   ],
   "source": [
    "from sklearn.metrics import confusion_matrix\n",
    "y_pred = knn.predict(X_test)\n",
    "cm = confusion_matrix(y_test, y_pred)\n",
    "cm"
   ]
  },
  {
   "cell_type": "code",
   "execution_count": 59,
   "id": "9aa6fc3b",
   "metadata": {
    "scrolled": true
   },
   "outputs": [
    {
     "data": {
      "text/plain": [
       "Text(42.0, 0.5, 'Truth')"
      ]
     },
     "execution_count": 59,
     "metadata": {},
     "output_type": "execute_result"
    },
    {
     "data": {
      "image/png": "[encoded data removed]",
      "text/plain": [
       "<Figure size 504x360 with 2 Axes>"
      ]
     },
     "metadata": {
      "needs_background": "light"
     },
     "output_type": "display_data"
    }
   ],
   "source": [
    "%matplotlib inline\n",
    "import matplotlib.pyplot as plt\n",
    "import seaborn as sn\n",
    "plt.figure(figsize=(7,5))\n",
    "sn.heatmap(cm, annot=True)\n",
    "plt.xlabel('Predicted')\n",
    "plt.ylabel('Truth')"
   ]
  },
  {
   "cell_type": "code",
   "execution_count": 4,
   "id": "1e613210",
   "metadata": {},
   "outputs": [
    {
     "data": {
      "text/html": [
       "<div>\n",
       "<style scoped>\n",
       "    .dataframe tbody tr th:only-of-type {\n",
       "        vertical-align: middle;\n",
       "    }\n",
       "\n",
       "    .dataframe tbody tr th {\n",
       "        vertical-align: top;\n",
       "    }\n",
       "\n",
       "    .dataframe thead th {\n",
       "        text-align: right;\n",
       "    }\n",
       "</style>\n",
       "<table border=\"1\" class=\"dataframe\">\n",
       "  <thead>\n",
       "    <tr style=\"text-align: right;\">\n",
       "      <th></th>\n",
       "      <th>middle</th>\n",
       "      <th>left</th>\n",
       "      <th>action</th>\n",
       "      <th>time</th>\n",
       "    </tr>\n",
       "  </thead>\n",
       "  <tbody>\n",
       "    <tr>\n",
       "      <th>0</th>\n",
       "      <td>1.0</td>\n",
       "      <td>0.382223</td>\n",
       "      <td>Slight-Right-Turn</td>\n",
       "      <td>0.650571</td>\n",
       "    </tr>\n",
       "    <tr>\n",
       "      <th>1</th>\n",
       "      <td>1.0</td>\n",
       "      <td>0.399325</td>\n",
       "      <td>Slight-Right-Turn</td>\n",
       "      <td>0.679555</td>\n",
       "    </tr>\n",
       "    <tr>\n",
       "      <th>2</th>\n",
       "      <td>1.0</td>\n",
       "      <td>0.419367</td>\n",
       "      <td>Slight-Right-Turn</td>\n",
       "      <td>0.738385</td>\n",
       "    </tr>\n",
       "    <tr>\n",
       "      <th>3</th>\n",
       "      <td>1.0</td>\n",
       "      <td>0.443920</td>\n",
       "      <td>Move-Forward</td>\n",
       "      <td>0.765440</td>\n",
       "    </tr>\n",
       "    <tr>\n",
       "      <th>4</th>\n",
       "      <td>1.0</td>\n",
       "      <td>0.451097</td>\n",
       "      <td>Move-Forward</td>\n",
       "      <td>0.801350</td>\n",
       "    </tr>\n",
       "  </tbody>\n",
       "</table>\n",
       "</div>"
      ],
      "text/plain": [
       "   middle      left             action      time\n",
       "0     1.0  0.382223  Slight-Right-Turn  0.650571\n",
       "1     1.0  0.399325  Slight-Right-Turn  0.679555\n",
       "2     1.0  0.419367  Slight-Right-Turn  0.738385\n",
       "3     1.0  0.443920       Move-Forward  0.765440\n",
       "4     1.0  0.451097       Move-Forward  0.801350"
      ]
     },
     "execution_count": 4,
     "metadata": {},
     "output_type": "execute_result"
    }
   ],
   "source": [
    "df= pd.read_csv('Downloads/newDataKNN.txt')\n",
    "df.head()"
   ]
  },
  {
   "cell_type": "code",
   "execution_count": 7,
   "id": "1073290a",
   "metadata": {},
   "outputs": [
    {
     "data": {
      "text/plain": [
       "<matplotlib.collections.PathCollection at 0x23b36f114b0>"
      ]
     },
     "execution_count": 7,
     "metadata": {},
     "output_type": "execute_result"
    },
    {
     "data": {
      "image/png": "[encoded data removed]",
      "text/plain": [
       "<Figure size 432x288 with 1 Axes>"
      ]
     },
     "metadata": {
      "needs_background": "light"
     },
     "output_type": "display_data"
    }
   ],
   "source": [
    "plt.title('Distances')\n",
    "plt.xlabel('Time')\n",
    "plt.ylabel('Distance middle')\n",
    "plt.scatter(df['time'],df['middle'],color=\"green\",marker='+')"
   ]
  },
  {
   "cell_type": "code",
   "execution_count": 8,
   "id": "3e24ab30",
   "metadata": {},
   "outputs": [
    {
     "data": {
      "text/plain": [
       "<matplotlib.collections.PathCollection at 0x23b36ec1390>"
      ]
     },
     "execution_count": 8,
     "metadata": {},
     "output_type": "execute_result"
    },
    {
     "data": {
      "image/png": "[encoded data removed]",
      "text/plain": [
       "<Figure size 432x288 with 1 Axes>"
      ]
     },
     "metadata": {
      "needs_background": "light"
     },
     "output_type": "display_data"
    }
   ],
   "source": [
    "plt.title('Distances')\n",
    "plt.xlabel('Time')\n",
    "plt.ylabel('Distance left')\n",
    "plt.scatter(df['time'],df['left'],color=\"red\",marker='.')"
   ]
  },
  {
   "cell_type": "code",
   "execution_count": 26,
   "id": "070fd2b1",
   "metadata": {},
   "outputs": [
    {
     "data": {
      "text/plain": [
       "[<matplotlib.lines.Line2D at 0x24a077ba920>]"
      ]
     },
     "execution_count": 26,
     "metadata": {},
     "output_type": "execute_result"
    },
    {
     "data": {
      "image/png": "[encoded data removed]",
      "text/plain": [
       "<Figure size 432x288 with 1 Axes>"
      ]
     },
     "metadata": {
      "needs_background": "light"
     },
     "output_type": "display_data"
    }
   ],
   "source": [
    "import pandas as pd\n",
    "%matplotlib inline\n",
    "import matplotlib.pyplot as plt\n",
    "dataset=pd.read_excel(\"Downloads\\data_set.xlsx\")\n",
    "plt.plot(dataset.iloc[:,:-1].to_numpy(),dataset.iloc[:,-1:].to_numpy())"
   ]
  },
  {
   "cell_type": "code",
   "execution_count": null,
   "id": "65d9df1d",
   "metadata": {},
   "outputs": [],
   "source": []
  }
 ],
 "metadata": {
  "kernelspec": {
   "display_name": "Python 3 (ipykernel)",
   "language": "python",
   "name": "python3"
  },
  "language_info": {
   "codemirror_mode": {
    "name": "ipython",
    "version": 3
   },
   "file_extension": ".py",
   "mimetype": "text/x-python",
   "name": "python",
   "nbconvert_exporter": "python",
   "pygments_lexer": "ipython3",
   "version": "3.10.0"
  }
 },
 "nbformat": 4,
 "nbformat_minor": 5
}
